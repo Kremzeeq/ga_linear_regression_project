{
 "cells": [
  {
   "cell_type": "code",
   "execution_count": 1,
   "metadata": {},
   "outputs": [],
   "source": [
    "import pandas as pd\n",
    "import numpy as np\n",
    "import datetime\n",
    "\n",
    "from sklearn.model_selection import train_test_split\n",
    "from sklearn.linear_model import LinearRegression\n",
    "\n",
    "from ipywidgets import widgets, Box, Layout, TwoByTwoLayout\n",
    "from IPython.display import display, clear_output, HTML\n",
    "\n",
    "import seaborn as sns\n",
    "import matplotlib.pyplot as plt\n",
    "import plotly.graph_objects as go\n",
    "from plotly.subplots import make_subplots\n",
    "%matplotlib inline\n",
    "\n",
    "# Global Variables\n",
    "web_traffic_df = pd.read_csv('../assets/GA_web_traffic_data_12_08_20.csv')\n",
    "y_metrics = ['Sessions', 'Page Views']\n",
    "key_metrics = ['Users', 'Page Views', 'Sessions']\n",
    "segments = ['All Users', 'New Users', 'Returning Users']\n",
    "\n",
    "class LinearModelController():\n",
    "    \"\"\"\n",
    "    Derives dictionary needed for the LinearModelView\n",
    "    Linear regression models are produced for Users vs each of the self.y_metrics, \n",
    "    as well as data frames with x and y datapoints.\n",
    "    \"\"\"\n",
    "    \n",
    "    def __init__(self, web_traffic_df, y_metrics):\n",
    "        \"\"\"\n",
    "        :params web_traffic_df: Refers to the google analytics web traffic dataframe read from file\n",
    "        :params y_metrics: metrics to be represented on y axis against users in linear regression\n",
    "        \"\"\"\n",
    "        self.df = web_traffic_df.copy()\n",
    "        self.y_metrics = y_metrics\n",
    "        \n",
    "    def execute(self):\n",
    "        all_and_new_users_df = self.get_all_and_new_users_only_df()\n",
    "        return self.get_linear_model_dicts_for_y_metrics(all_and_new_users_df)\n",
    "\n",
    "    def get_all_and_new_users_only_df(self):\n",
    "        \"\"\"\n",
    "        Get copy of original dataframe which excludes the Returning Users\n",
    "        segment and meets linear model prerequisites to a greater extent \n",
    "        \"\"\"\n",
    "        all_and_new_users_df = self.df[self.df['Segment']!='Returning Users'].copy()\n",
    "        all_and_new_users_df.drop(['Month of Year', 'Date Range', 'Segment'], axis=1, inplace=True)\n",
    "        return all_and_new_users_df\n",
    "    \n",
    "    def get_linear_model_dict(self, all_and_new_users_df, y_metric):\n",
    "        \"\"\"\n",
    "        Linear model dictionary provides the linear model object and \n",
    "        also model training points for x and y\n",
    "        For demo purposes, test_size and random_state are set to defaults\n",
    "        \"\"\"\n",
    "        lm = LinearRegression()\n",
    "        X_train, X_test, y_train, y_test = train_test_split(all_and_new_users_df[['Users']], all_and_new_users_df[[y_metric]], \n",
    "                                                            test_size=0.4, random_state=101)\n",
    "        lm.fit(X_train, y_train)\n",
    "        lm_data_points_df = pd.concat([X_train, y_train], axis=1, join='inner')\n",
    "        \n",
    "        lm_dict = {\"linear model\":lm, \"linear model data points df\": lm_data_points_df}\n",
    "        return lm_dict\n",
    "    \n",
    "    def get_linear_model_dicts_for_y_metrics(self, all_and_new_users_df):\n",
    "        \"\"\"\n",
    "        Provides dictionary with a linear model and linear model data points \n",
    "        in a dataframe for Users vs Sessions and Users vs Page Views.\n",
    "        From the executable dictionary:\n",
    "            - Access the desired linear model e.g. for Sessions with:\n",
    "                linear_model_dicts['Sessions']['linear model']\n",
    "            - Access the Sessions linear model data points with:\n",
    "                linear_model_dicts['Sessions']['linear model data points df']\n",
    "        \"\"\"\n",
    "        lm_dict_by_y_metric = {self.y_metrics[0]:0, self.y_metrics[1]:0}\n",
    "        for y_metric in self.y_metrics:\n",
    "            lm_dict = self.get_linear_model_dict(all_and_new_users_df, y_metric)\n",
    "            lm_dict_by_y_metric[y_metric] = lm_dict\n",
    "        return lm_dict_by_y_metric\n",
    "    \n",
    "class LinearModelView():\n",
    "    \"\"\"\n",
    "    Provides GUI with graph to represent linear model \n",
    "    with training points for x and y values. x axis refers to Users \n",
    "    whereas y axis is dependent on the y metric selected from a dropdown \n",
    "    'selector' box\n",
    "    \"\"\"\n",
    "    \n",
    "    def __init__(self, lm_dict_by_y_metric, y_metrics):\n",
    "        \"\"\"\n",
    "        :params lm_dict_by_y_metric: Linear model dictionary with linear model\n",
    "                                    and a linear model data points dataframe for \n",
    "                                    Users vs each of the y_metrics. \n",
    "                                    Dictionary is derived from LinearModelController\n",
    "        :params y_metrics: metrics to be represented on y axis against users in\n",
    "                           linear regression\n",
    "        \"\"\"\n",
    "        self.lm_dict_by_y_metric = lm_dict_by_y_metric\n",
    "        self.y_metrics = y_metrics\n",
    "        \n",
    "    def execute(self):\n",
    "        self.y_metric_selector = self.get_y_metric_selector()\n",
    "        self.display_y_metric_selector_box()\n",
    "        lm_data_points_df = self.lm_dict_by_y_metric[self.y_metrics[0]]['linear model data points df']\n",
    "        self.render_regression_plot(self.y_metrics[0], lm_data_points_df)\n",
    "        # The y_metric_selector is set up to 'observe' the change in the y_metric\n",
    "        self.y_metric_selector.observe(self.change_y_metric, names='value')\n",
    "        \n",
    "    def get_y_metric_selector(self):\n",
    "        y_metric_selector = widgets.Dropdown(options=self.y_metrics,\n",
    "                                             value=self.y_metrics[0],\n",
    "                                             disabled=False)\n",
    "        return y_metric_selector\n",
    "        \n",
    "    def display_y_metric_selector_box(self):\n",
    "        box = Box(children=[widgets.Label('Please select y metric:'), self.y_metric_selector])\n",
    "        display(box)\n",
    "    \n",
    "    def render_regression_plot(self, y_metric, lm_data_points_df):\n",
    "        fig = plt.figure(figsize=(10, 6))\n",
    "        ax1 = plt.subplot()\n",
    "        sns.regplot(x=\"Users\", y=y_metric, data=lm_data_points_df, ax=ax1)\n",
    "        \n",
    "    def change_y_metric(self, change):\n",
    "        \"\"\"\n",
    "        Upon changing the y_metric in the dropdown,\n",
    "        the self.y_metric_selector value is passed to self.lm_dict_by_y_metric\n",
    "        to get data points required to render the regression plot.\n",
    "        \"\"\"\n",
    "        clear_output()\n",
    "        lm_data_points_df = self.lm_dict_by_y_metric[self.y_metric_selector.value]['linear model data points df']\n",
    "        self.render_regression_plot(self.y_metric_selector.value, lm_data_points_df)\n",
    "        self.display_y_metric_selector_box()"
   ]
  },
  {
   "cell_type": "code",
   "execution_count": 2,
   "metadata": {},
   "outputs": [],
   "source": [
    "class LinearModelPredictorView():\n",
    "    \"\"\"\n",
    "    Provides GUI with option for user to enter a number of users in\n",
    "    order to predict the number of Sessions and Page Views, based on\n",
    "    2 linear models\n",
    "    \"\"\"\n",
    "    def __init__(self, lm_dict_by_y_metric, y_metrics):\n",
    "        \"\"\"\n",
    "        :params lm_dict_by_y_metric: Linear model dictionary with linear model\n",
    "                                    and a linear model data points dataframe for \n",
    "                                    Users vs each of the y_metrics. \n",
    "                                    Dictionary is derived from LinearModelController\n",
    "        :params y_metrics: metrics to be represented on y axis against users in\n",
    "                           linear regression\n",
    "        \"\"\"\n",
    "        self.lm_dict_by_y_metric = lm_dict_by_y_metric\n",
    "        self.y_metrics = y_metrics\n",
    "        \n",
    "    def execute(self):\n",
    "        self.set_up_widgets()\n",
    "        self.button.on_click(self.predict_y_values)\n",
    "    \n",
    "    def set_up_widgets(self):\n",
    "        title_label = widgets.Label('Predict Sessions and Page Views for All Users:')\n",
    "        title_label.add_class('widgetTitle')\n",
    "        label_names = ['Enter Number of Users:','','']\n",
    "        self.label_widgets = [widgets.Label(label_name) for label_name in label_names]\n",
    "        self.get_users = widgets.Text()\n",
    "        users_box = Box(children=[self.label_widgets[0], self.get_users])\n",
    "        self.output = widgets.Output()\n",
    "        self.button = widgets.Button(description=\"Submit\")\n",
    "        \n",
    "        display(title_label)\n",
    "        display(users_box)\n",
    "        display(self.button, self.output)\n",
    "        \n",
    "    def predict_y_values(self, b):\n",
    "        \"\"\"\n",
    "        On click of button this func is executed.\n",
    "        The number of Users from the value assigned to the self.get_users \n",
    "        text widget is passed as an integer to a numpy array.\n",
    "        Thereafter predictions are made for the y metrics which are displayed \n",
    "        in a label widgets to the end user\n",
    "        \"\"\"\n",
    "        self.label_widgets\n",
    "        with self.output:\n",
    "            users = pd.DataFrame(np.array([int(self.get_users.value)]), columns= ['Users'])\n",
    "            i = 1\n",
    "            for y_metric in self.y_metrics:\n",
    "                self.get_y_value(y_metric, users, i)\n",
    "                i +=1\n",
    "        return self.label_widgets\n",
    "                \n",
    "    def get_y_value(self, y_metric, users, i):\n",
    "        \"\"\"\n",
    "        The linear model object (lm) is obtained for Users vs the y_metric.\n",
    "        A prediction for the y_metric is assigned to the label widget\n",
    "        \"\"\"\n",
    "        lm = self.lm_dict_by_y_metric[y_metric]['linear model']\n",
    "        prediction = int(lm.predict(users)[0][0])\n",
    "        self.label_widgets[i].value = \"{}: {}\".format(y_metric, prediction)\n",
    "        display(self.label_widgets[i])"
   ]
  },
  {
   "cell_type": "code",
   "execution_count": 3,
   "metadata": {},
   "outputs": [],
   "source": [
    "linear_model_controller = LinearModelController(web_traffic_df, y_metrics)\n",
    "linear_model_dicts = linear_model_controller.execute()"
   ]
  },
  {
   "cell_type": "markdown",
   "metadata": {},
   "source": [
    "# Web Traffic Data Exploration | with Linear Regression Analysis\n",
    "\n",
    "## Part 4: Web Traffic Dashboard on Kaggle"
   ]
  },
  {
   "cell_type": "markdown",
   "metadata": {},
   "source": [
    "## Section A: Linear Regression Model"
   ]
  },
  {
   "cell_type": "code",
   "execution_count": 4,
   "metadata": {},
   "outputs": [
    {
     "data": {
      "application/vnd.jupyter.widget-view+json": {
       "model_id": "9aa7a90721f64425a2269f8853367e79",
       "version_major": 2,
       "version_minor": 0
      },
      "text/plain": [
       "Box(children=(Label(value='Please select y metric:'), Dropdown(options=('Sessions', 'Page Views'), value='Sess…"
      ]
     },
     "metadata": {},
     "output_type": "display_data"
    },
    {
     "data": {
      "image/png": "[encoded data removed]",
      "text/plain": [
       "<Figure size 720x432 with 1 Axes>"
      ]
     },
     "metadata": {
      "needs_background": "light"
     },
     "output_type": "display_data"
    }
   ],
   "source": [
    "linear_model_view = LinearModelView(linear_model_dicts, y_metrics)\n",
    "linear_model_view.execute()"
   ]
  },
  {
   "cell_type": "code",
   "execution_count": 5,
   "metadata": {
    "scrolled": true
   },
   "outputs": [
    {
     "data": {
      "application/vnd.jupyter.widget-view+json": {
       "model_id": "920a3432b0014796a617a6c4d5b6774a",
       "version_major": 2,
       "version_minor": 0
      },
      "text/plain": [
       "Label(value='Predict Sessions and Page Views for All Users:', _dom_classes=('widgetTitle',))"
      ]
     },
     "metadata": {},
     "output_type": "display_data"
    },
    {
     "data": {
      "application/vnd.jupyter.widget-view+json": {
       "model_id": "2500eb9adf6c421392c8dcc5e70a7058",
       "version_major": 2,
       "version_minor": 0
      },
      "text/plain": [
       "Box(children=(Label(value='Enter Number of Users:'), Text(value='')))"
      ]
     },
     "metadata": {},
     "output_type": "display_data"
    },
    {
     "data": {
      "application/vnd.jupyter.widget-view+json": {
       "model_id": "62718ffe6bc84023b0e74596902773db",
       "version_major": 2,
       "version_minor": 0
      },
      "text/plain": [
       "Button(description='Submit', style=ButtonStyle())"
      ]
     },
     "metadata": {},
     "output_type": "display_data"
    },
    {
     "data": {
      "application/vnd.jupyter.widget-view+json": {
       "model_id": "c6fa9b12aefd44e1820d6bca78ed0607",
       "version_major": 2,
       "version_minor": 0
      },
      "text/plain": [
       "Output()"
      ]
     },
     "metadata": {},
     "output_type": "display_data"
    }
   ],
   "source": [
    "linear_model_predictor_view = LinearModelPredictorView(linear_model_dicts, y_metrics)\n",
    "linear_model_predictor_view.execute()"
   ]
  },
  {
   "cell_type": "code",
   "execution_count": 6,
   "metadata": {},
   "outputs": [],
   "source": [
    "def get_rolling_avg_metric(metric):\n",
    "    if metric != 'Bounce Rate':\n",
    "        rolling_avg_metric ='Rolling 3 Month Avg - '+metric\n",
    "    else:\n",
    "        rolling_avg_metric ='Rolling 3 Month Avg - '+metric+' (%)'\n",
    "    return rolling_avg_metric"
   ]
  },
  {
   "cell_type": "code",
   "execution_count": 7,
   "metadata": {},
   "outputs": [],
   "source": [
    "class ThreeMonthRollingAvgController():\n",
    "    \"\"\"\n",
    "    Provides pandas data frame so that three month\n",
    "    moving averages are calculated for web traffic metrics\n",
    "    \"\"\"\n",
    "    def __init__(self, web_traffic_df, segments):\n",
    "        \"\"\"\n",
    "        :params df: Refers to the google analytics web traffic dataframe read from file\n",
    "        :params segments: Refers to segments globally set\n",
    "        \"\"\"\n",
    "        self.df = web_traffic_df.copy()\n",
    "        self.metrics = web_traffic_df.columns[3:]\n",
    "        self.segments = segments\n",
    "        \n",
    "    def execute(self):\n",
    "        #self.remove_latest_month()\n",
    "        dfs_by_segment = self.get_dfs_by_segment()\n",
    "        df = self.concatenate_dfs(dfs_by_segment)\n",
    "        df = self.add_month_and_year_columns(df)\n",
    "        return df\n",
    "    \n",
    "    def remove_latest_month(self):\n",
    "        \"\"\"\n",
    "        Latest month is removed if incomplete month is included. \n",
    "        Code could be adapted to try and identify of the latest month is incomplete.\n",
    "        \"\"\"\n",
    "        latest_month = self.df[self.df['Month of Year']==self.df['Month of Year'].unique()[-1]]\n",
    "        # drop the rows for latest month from the df\n",
    "        self.df.drop([latest_month.index][0], inplace=True)\n",
    "        \n",
    "    def get_dfs_by_segment(self):\n",
    "        dfs_by_segment = []\n",
    "        for segment in self.segments:\n",
    "            segment_df = self.get_segment_df(segment)\n",
    "            dfs_by_segment.append(segment_df)\n",
    "        return dfs_by_segment\n",
    "    \n",
    "    def get_segment_df(self, segment):\n",
    "        segment_df = self.df[self.df['Segment']==segment].copy()\n",
    "        segment_df.sort_values('Month of Year', inplace=True)\n",
    "        segment_df = self.get_rolling_avg_for_metrics(segment_df)\n",
    "        return segment_df\n",
    "        \n",
    "    def get_rolling_avg_for_metrics(self, segment_df):\n",
    "        \"\"\"\n",
    "        Three month rolling average is calculated for each metric\n",
    "        based on the segment dataframe provided.\n",
    "        As Bounce Rate values are percentages, \n",
    "        the sign is removed and values are converted to floats before \n",
    "        rolling averages are caluclated\n",
    "        \"\"\"\n",
    "        for metric in self.metrics:\n",
    "            new_key = get_rolling_avg_metric(metric)\n",
    "            if metric != 'Bounce Rate':\n",
    "                segment_df[new_key] = segment_df[metric].rolling(window=3).mean()\n",
    "            else:\n",
    "                segment_df['Bounce Rate - Transformed']= segment_df[metric].apply(lambda x: float(x[:-1]))\n",
    "                segment_df[new_key] = segment_df['Bounce Rate - Transformed'].rolling(window=3).mean()   \n",
    "        return segment_df\n",
    "    \n",
    "    def concatenate_dfs(self, dfs_by_segment):\n",
    "        return pd.concat(dfs_by_segment)\n",
    "    \n",
    "    def get_first_day_of_month_and_year_dict(self, month_of_year):\n",
    "        \"\"\"\n",
    "        :param month_of_year: google e.g. 201904 in int form\n",
    "        :returns: dictionary with first day of month in datetime.datetime \n",
    "                  format and year e.g. 2019 as integer\n",
    "        Note: Month is represented as first day of month so that datapoints\n",
    "              correspond to the correct month in the graph. There is misalignment\n",
    "              if the last day of the month is represented instead. The Month parameter \n",
    "              refers to the entire month\n",
    "        \"\"\"\n",
    "        year = int(str(month_of_year)[0:4])\n",
    "        month = int(str(month_of_year)[-2:])\n",
    "        first_of_month = datetime.datetime(year=int(str(year)[0:4]),month=month, day=1)\n",
    "        return {'first day of month':first_of_month, 'year':year}\n",
    "    \n",
    "    def add_month_and_year_columns(self, df):\n",
    "        df['Year'] = df['Month of Year'].apply(lambda x : self.get_first_day_of_month_and_year_dict(x)['year'])\n",
    "        df['Month'] = df['Month of Year'].apply(lambda x : self.get_first_day_of_month_and_year_dict(x)['first day of month'])\n",
    "        return df\n",
    "        "
   ]
  },
  {
   "cell_type": "code",
   "execution_count": 8,
   "metadata": {},
   "outputs": [],
   "source": [
    "def get_metric(metric):\n",
    "    if metric == 'Bounce Rate':\n",
    "        metric = 'Bounce Rate - Transformed'\n",
    "    return metric"
   ]
  },
  {
   "cell_type": "code",
   "execution_count": 9,
   "metadata": {},
   "outputs": [],
   "source": [
    "class MetricAnnualAvgController():\n",
    "    \"\"\"\n",
    "    This class takes the web_traffic_df_copy derived from executing the ThreeMonthRollingAvgController. \n",
    "    A dataframe is returned with annual avg. values for metrics\n",
    "    \"\"\"\n",
    "    def __init__(self, web_traffic_df_copy, metric, segments, key_metrics):\n",
    "        \"\"\"\n",
    "        :params web_traffic_df_copy: Refers to the web_traffic_df_copy derived \n",
    "                                    from executing the ThreeMonthRollingAvgController.\n",
    "        :params metric: Metric selected in the view\n",
    "        :params segments: Refers to segments globally set\n",
    "        :params key_metrics: Refers to key metrics globally set\n",
    "        \"\"\"\n",
    "        self.df = web_traffic_df_copy.copy()\n",
    "        self.metric = metric\n",
    "        self.segments = segments\n",
    "        self.key_metrics = key_metrics\n",
    "        \n",
    "    def execute(self):\n",
    "        self.filter_for_columns()\n",
    "        self.get_avg_by_segment_and_year()\n",
    "        df = self.get_columns_for_each_segment()\n",
    "        df = self.get_new_users_percentage_for_key_metrics(df)\n",
    "        return df\n",
    "    \n",
    "    def filter_for_columns(self):\n",
    "        self.metric = get_metric(self.metric)\n",
    "        self.df = self.df.filter(items=['Segment', self.metric, 'Year'])\n",
    "\n",
    "    def get_avg_by_segment_and_year(self):\n",
    "        self.df = self.df.groupby(['Segment', 'Year']).mean()\n",
    "        self.df.reset_index(inplace=True)\n",
    "        \n",
    "    def get_columns_for_each_segment(self):\n",
    "        dfs_by_segment = []\n",
    "        for segment in self.segments:\n",
    "            segment_df = self.df[self.df['Segment']==segment].copy()\n",
    "            segment_df.index= segment_df['Year']\n",
    "            segment_df.drop(['Year', 'Segment'], axis=1, inplace=True)\n",
    "            segment_df.rename(columns={self.metric: segment}, inplace=True)\n",
    "            dfs_by_segment.append(segment_df)\n",
    "        df = pd.concat(dfs_by_segment, axis=1)\n",
    "        return df\n",
    "    \n",
    "    def get_new_users_percentage_for_key_metrics(self, df):\n",
    "        \"\"\"\n",
    "        Key metrics refer to those where figures for New Users \n",
    "        segment represents a proportion of the All Users segment in simplest terms\n",
    "        \"\"\"        \n",
    "        if self.metric in self.key_metrics:\n",
    "            df = self.update_df_with_new_user_percentage(df)\n",
    "        else:\n",
    "            df\n",
    "        df.reset_index(inplace=True)\n",
    "        return df\n",
    "        \n",
    "    def update_df_with_new_user_percentage(self, df):\n",
    "        new_key = \"{} (%)\".format(\"New Users\")\n",
    "        df[new_key] = df['All Users'].astype(object).combine(df['New Users'],func=self.get_percentage_for_segment)\n",
    "        return df\n",
    "        \n",
    "    def get_percentage_for_segment(self, all_users, segment):\n",
    "        return (segment/all_users)*100\n",
    "        \n",
    "    "
   ]
  },
  {
   "cell_type": "code",
   "execution_count": 10,
   "metadata": {},
   "outputs": [],
   "source": [
    "three_month_rolling_avg_controller = ThreeMonthRollingAvgController(web_traffic_df, segments)\n",
    "web_traffic_df_copy = three_month_rolling_avg_controller.execute()"
   ]
  },
  {
   "cell_type": "code",
   "execution_count": 11,
   "metadata": {},
   "outputs": [],
   "source": [
    "class MetricPerformanceSummaryController():\n",
    "    \"\"\"\n",
    "    This class takes the web_traffic_df_copy derived from executing the ThreeMonthRollingAvgController.\n",
    "    It also takes into account the metric and year selected from dropdowns in the DashboardQuadrantView GUI\n",
    "    and produces a metric_performance_summary_df dataframe.\n",
    "    This is executed within the MetricSummaryController.\n",
    "    \"\"\"\n",
    "    def __init__(self, df, metric, rolling_avg_metric, year):\n",
    "        \"\"\"\n",
    "        :params df: Refers to the web_traffic_df_copy\n",
    "        :params metric: Metric selected in the view\n",
    "        :params rolling_avg_metric: Rolling average metric based on the metric\n",
    "        :params year: Year selected in the view\n",
    "        \"\"\"\n",
    "        self.df = df.copy()\n",
    "        self.metric = metric\n",
    "        self.rolling_avg_metric = rolling_avg_metric\n",
    "        self.year = year\n",
    "        \n",
    "    def execute(self):\n",
    "        latest_month = self.get_latest_month()\n",
    "        previous_month = latest_month-1\n",
    "        latest_month_df = self.get_latest_month_df(latest_month)\n",
    "        previous_month_df = self.get_previous_month_df(previous_month)\n",
    "        historical_month_df = self.get_historical_month_df(latest_month)\n",
    "        metric_performance_summary_df = self.get_summary_table(latest_month_df, previous_month_df, historical_month_df)\n",
    "        return metric_performance_summary_df\n",
    "    \n",
    "    def get_latest_month(self):\n",
    "        #return self.df['Month of Year'].unique()[-1]\n",
    "        return self.df['Month of Year'].unique().max()\n",
    "        \n",
    "    def get_latest_month_df(self, latest_month):\n",
    "        latest_month_df = self.df[self.df['Month of Year']==latest_month].copy()\n",
    "        latest_month_df = latest_month_df.filter(items=['Segment', self.metric, self.rolling_avg_metric])\n",
    "\n",
    "        latest_month_col = 'Actual: ' + str(latest_month)\n",
    "        latest_month_rolling_col = 'Rolling 3 Month Avg : ' + str(latest_month)\n",
    "        \n",
    "        latest_month_df.columns = ['Segment', latest_month_col, latest_month_rolling_col]\n",
    "        latest_month_df[latest_month_rolling_col] =latest_month_df[latest_month_rolling_col].astype(int)\n",
    "        return latest_month_df\n",
    "    \n",
    "    def get_previous_month_df(self,previous_month):\n",
    "        previous_month_df = self.df[self.df['Month of Year']==previous_month].copy()\n",
    "        previous_month_df = previous_month_df.filter(items=['Segment', self.metric])\n",
    "        \n",
    "        previous_month_col = 'Previous: ' + str(previous_month)\n",
    "        previous_month_df.columns = ['Segment', previous_month_col]\n",
    "        return previous_month_df\n",
    "    \n",
    "    def get_historical_month(self, latest_month):\n",
    "        if str(self.year) == str(latest_month)[:4]:\n",
    "            return latest_month - 100\n",
    "        else:\n",
    "            historical_month = str(self.year) + str(latest_month)[4:]\n",
    "        return int(historical_month)\n",
    "    \n",
    "    def get_historical_month_df(self, latest_month):\n",
    "        historical_month = self.get_historical_month(latest_month)\n",
    "        historical_month_df = self.df[self.df['Month of Year']==historical_month].copy()\n",
    "        historical_month_df = historical_month_df.filter(items=['Segment', self.metric])\n",
    "        \n",
    "        historical_month_col = 'Historical: ' + str(historical_month)    \n",
    "        historical_month_df.columns = ['Segment', historical_month_col]\n",
    "        return historical_month_df\n",
    "        \n",
    "    def get_summary_table(self, latest_month_df, previous_month_df, historical_month_df):\n",
    "        dfs = [latest_month_df, previous_month_df, historical_month_df]\n",
    "        for df in dfs:\n",
    "            df.set_index('Segment', inplace=True)\n",
    "        metric_performance_summary_df = pd.concat(dfs, axis=1)\n",
    "        metric_performance_summary_df.reset_index(inplace=True)\n",
    "        return metric_performance_summary_df  "
   ]
  },
  {
   "cell_type": "code",
   "execution_count": 12,
   "metadata": {},
   "outputs": [],
   "source": [
    "class MetricSummaryView():\n",
    "    \"\"\"\n",
    "    This class takes the metric_summary_dict from the MetricSummaryController.\n",
    "    This provides parameters required to render the plots within the DashboardQuadrantView.\n",
    "    \"\"\"\n",
    "    def __init__(self, metric_summary_dict):\n",
    "        self.metric_performance_summary_df = metric_summary_dict['metric_performance_summary_df'].copy()\n",
    "        self.metric_annual_avg_df = metric_summary_dict['metric_annual_avg_df'].copy()\n",
    "        self.dropdown_values_dict = metric_summary_dict['dropdown_values_dict']\n",
    "        \n",
    "        self.marker_colors1= [ 'lightsalmon', 'coral', 'chocolate', 'indianred']\n",
    "        self.marker_colors2= [ 'dodgerblue', 'crimson', 'darkcyan']\n",
    "        self.segments = metric_summary_dict['segments']\n",
    "        self.key_metrics = metric_summary_dict['key_metrics']\n",
    "        self.is_key_metric = self.check_if_key_metric()\n",
    "        self.metric = self.dropdown_values_dict['metric']\n",
    "        \n",
    "    def execute(self):\n",
    "        titles_dict = self.get_titles()\n",
    "        self.render_figure_with_subplots(titles_dict)\n",
    "        \n",
    "    def get_titles(self):\n",
    "        plot_1 = \"Rolling 3 Month Avg.: {}\".format(self.dropdown_values_dict['year'])\n",
    "        plot_2 = \"Annual Avg.\"\n",
    "        plot_3 = \"Performance Summary\"\n",
    "        plot_4 = self.get_plot_4_dict()['title']\n",
    "        return {\"Plot 1\": plot_1, \"Plot 2\": plot_2, \"Plot 3\": plot_3, \"Plot 4\": plot_4}\n",
    "    \n",
    "    def get_metric_text(self):\n",
    "        metric_text = self.metric\n",
    "        if self.metric == 'Bounce Rate':\n",
    "            metric_text = \"Bounce Rate (%)\"\n",
    "        return metric_text\n",
    "        \n",
    "    def render_figure_with_subplots(self, titles_dict):\n",
    "        #https://plot.ly/python/subplots/\n",
    "        #https://plot.ly/python/mixed-subplots/\n",
    "        # Initialize figure with subplots\n",
    "        title_text = \"Metric: {}\".format(self.get_metric_text())\n",
    "        \n",
    "        self.fig = make_subplots(\n",
    "            subplot_titles=(titles_dict[\"Plot 1\"], titles_dict[\"Plot 2\"], titles_dict[\"Plot 3\"], titles_dict[\"Plot 4\"]),\n",
    "            rows=2, cols=2,\n",
    "            column_widths=[0.5, 0.5],\n",
    "            row_heights=[0.5, 0.5],\n",
    "            vertical_spacing = 0.15,\n",
    "            specs=[[{\"type\": \"scatter\"}, {\"type\": \"bar\"}],\n",
    "                   [{\"type\": \"bar\"},self.get_plot_4_dict()['plot type']]])\n",
    "        self.render_rolling_avg_chart()\n",
    "        self.render_metric_annual_avg_chart()\n",
    "        self.render_performance_summary_chart()\n",
    "        self.render_plot_4()\n",
    "        self.fig.update_layout(width=1000,height=800, title_text=title_text, \n",
    "                              barmode='group', xaxis_tickangle=-45, xaxis ={'showticklabels': True})\n",
    "        self.update_yaxes_for_all_plots()\n",
    "        self.fig.show()\n",
    "        \n",
    "    \n",
    "    def check_if_key_metric(self):\n",
    "        if self.dropdown_values_dict['metric'] in self.key_metrics:\n",
    "            return True\n",
    "        return False\n",
    "        \n",
    "    def get_plot_4_dict(self):\n",
    "        plot_4_dict ={}\n",
    "        if self.is_key_metric:\n",
    "            plot_4_dict = {\"plot type\":{\"type\":\"bar\"}, \"title\": \"Annual Avg. New Users (%)\"}\n",
    "        else:\n",
    "            plot_4_dict = {\"plot type\":None, \"title\": \"\"}\n",
    "        return plot_4_dict\n",
    "    \n",
    "    def render_rolling_avg_chart(self):\n",
    "        # https://plot.ly/python/v3/line-and-scatter/#scatter-with-a-color-dimension\n",
    "        # https://plot.ly/python/time-series/\n",
    "        one_year_df = self.dropdown_values_dict['one_year_df']\n",
    "        rolling_avg_metric = self.dropdown_values_dict['rolling_avg_metric']\n",
    "        i = 0\n",
    "        for segment in self.segments:\n",
    "            segment_df = one_year_df[one_year_df['Segment']==segment].copy()\n",
    "            self.fig.add_trace(go.Scatter(\n",
    "                                x=segment_df['Month'],\n",
    "                                y=segment_df[rolling_avg_metric],\n",
    "                                mode='lines+markers',\n",
    "                                name=segment,\n",
    "                                hovertext=segment,\n",
    "                                marker_color=self.marker_colors2[i]\n",
    "                                ), row=1, col=1)\n",
    "            i+=1\n",
    "\n",
    "    def render_performance_summary_chart(self):\n",
    "        # https://plot.ly/python/bar-charts/#grouped-bar-chart\n",
    "        y_metric_names= self.metric_performance_summary_df.columns[1:]\n",
    "        i = 0\n",
    "        for y_metric_name in y_metric_names:\n",
    "            self.fig.add_trace(go.Bar(\n",
    "                                x=self.metric_performance_summary_df['Segment'],\n",
    "                                y=self.metric_performance_summary_df[y_metric_name],\n",
    "                                name=y_metric_name,\n",
    "                                hovertext=y_metric_name,\n",
    "                                marker_color=self.marker_colors1[i]\n",
    "                                ), row=2, col=1)\n",
    "            i+=1\n",
    "\n",
    "    def render_metric_annual_avg_chart(self):\n",
    "       \n",
    "        years = self.metric_annual_avg_df.columns[1:]\n",
    "        i = 0 \n",
    "        for segment in self.segments:\n",
    "            self.fig.add_trace(go.Bar(\n",
    "                                x=self.metric_annual_avg_df['Year'],\n",
    "                                y=self.metric_annual_avg_df[segment],\n",
    "                                name=segment,\n",
    "                                hovertext=segment,\n",
    "                                marker_color=self.marker_colors2[i]\n",
    "                                ), row=1, col=2)\n",
    "            i+=1\n",
    "            \n",
    "\n",
    "    def render_new_users_annual_avg_chart(self):\n",
    "        self.fig.add_trace(go.Bar(x=self.metric_annual_avg_df['Year'],\n",
    "                                  y=self.metric_annual_avg_df['New Users (%)'],\n",
    "                                  name='New Users',\n",
    "                                  hovertext='New Users',\n",
    "                                  marker_color=self.marker_colors2[1]\n",
    "                                 ), row=2, col=2)\n",
    "        \n",
    "    def render_plot_4(self):\n",
    "        if self.is_key_metric:\n",
    "            self.render_new_users_annual_avg_chart()\n",
    "\n",
    "        else:\n",
    "            pass\n",
    "        \n",
    "    def update_yaxes_for_all_plots(self):\n",
    "        plot_cooridinates = [[1,1], [1,2], [2,1]]\n",
    "        for plot in plot_cooridinates:\n",
    "            self.fig.update_yaxes(title_text=self.get_metric_text(), row=plot[0], col=plot[1])\n",
    "        plot_4_y_axis_title = self.metric+\" (%)\"\n",
    "        self.fig.update_yaxes(title_text=plot_4_y_axis_title, row=2, col=2)"
   ]
  },
  {
   "cell_type": "code",
   "execution_count": 13,
   "metadata": {},
   "outputs": [],
   "source": [
    "class MetricSummaryController():\n",
    "    \"\"\"\n",
    "    Takes dropdown values from the DashboardQuadrantView and executes various \n",
    "    controller classes to get information needed to render the MetricSummaryView\n",
    "    as part of the DashboardQuadrantView.\n",
    "    \"\"\"\n",
    "    def __init__(self, df, dropdown_values_dict, segments, key_metrics):\n",
    "        \"\"\"\n",
    "        :params df: Refers to the web_traffic_df_copy\n",
    "        :params metric: Metric selected in the view\n",
    "        :params segments: Refers to segments globally set\n",
    "        :params key_metrics: Refers to key metrics globally set\n",
    "        \"\"\"\n",
    "        self.df = df\n",
    "        self.dropdown_values_dict = dropdown_values_dict\n",
    "        self.segments = segments\n",
    "        self.key_metrics = key_metrics\n",
    "        \n",
    "    def execute(self):\n",
    "        metric_performance_summary_controller = MetricPerformanceSummaryController(\n",
    "                                                self.df, \n",
    "                                                self.dropdown_values_dict['metric'],\n",
    "                                                self.dropdown_values_dict['rolling_avg_metric'],\n",
    "                                                self.dropdown_values_dict['year'])\n",
    "        metric_performance_summary_df = metric_performance_summary_controller.execute()\n",
    "        metric_annual_avg_controller = MetricAnnualAvgController(\n",
    "                                       self.df,\n",
    "                                       self.dropdown_values_dict['metric'],\n",
    "                                       self.segments,\n",
    "                                       self.key_metrics)\n",
    "        metric_annual_avg_df = metric_annual_avg_controller.execute()\n",
    "        metric_summary_dict = self.get_metric_summary_dict(metric_performance_summary_df, metric_annual_avg_df)\n",
    "        return metric_summary_dict\n",
    "        \n",
    "    def get_metric_summary_dict(self, metric_performance_summary_df, metric_annual_avg_df):\n",
    "        metric_summary_dict = {'metric_performance_summary_df': metric_performance_summary_df, \n",
    "                               'metric_annual_avg_df':metric_annual_avg_df,\n",
    "                               'dropdown_values_dict':self.dropdown_values_dict,\n",
    "                               'segments': self.segments,\n",
    "                               'key_metrics': self.key_metrics}\n",
    "        return metric_summary_dict "
   ]
  },
  {
   "cell_type": "code",
   "execution_count": 14,
   "metadata": {},
   "outputs": [],
   "source": [
    "class DashboardQuadrantView():\n",
    "    \"\"\"\n",
    "    Takes the web_traffic_df_copy derived from executing the ThreeMonthRollingAvgController.\n",
    "    This view renders a GUI with dropdowns for Year and Metrics and a MetricSummaryView with\n",
    "    different plots\n",
    "    \n",
    "    \"\"\"\n",
    "    def __init__(self, web_traffic_df_copy, segments, key_metrics):\n",
    "        \"\"\"\n",
    "        :params web_traffic_df_copy: Refers to the df from the ThreeMonthRollingAvgController.\n",
    "        :params metric: Metric selected in the view\n",
    "        :params segments: Refers to segments globally set\n",
    "        :params key_metrics: Refers to key metrics globally set\n",
    "        \"\"\"\n",
    "        self.df = web_traffic_df_copy.copy()\n",
    "        self.metrics = web_traffic_df_copy.columns[3:9]\n",
    "        self.segments = segments\n",
    "        self.key_metrics = key_metrics\n",
    "        \n",
    "    def execute(self):\n",
    "        self.set_up_widgets()\n",
    "        self.display_widgets()\n",
    "        # set default for graph\n",
    "        self.plot = self.render_plots_and_get_values_dict('Users', 2020)\n",
    "        self.year_selector.observe(self.change_year_and_metric, names='value')\n",
    "        self.metric_selector.observe(self.change_year_and_metric, names='value')\n",
    "    \n",
    "    def set_up_widgets(self):\n",
    "        year_options = self.df['Year'].unique()\n",
    "        year_options = [str(year) for year in year_options]\n",
    "\n",
    "        self.year_selector = widgets.Dropdown(\n",
    "            options=year_options[::-1],\n",
    "            value=year_options[-1],\n",
    "            disabled=False,\n",
    "        )\n",
    "        self.metric_selector = widgets.Dropdown(\n",
    "                options=self.metrics,\n",
    "                value=self.metrics[0],\n",
    "                disabled=False,\n",
    "            )\n",
    "\n",
    "        self.year_widget_label = widgets.Label('Please select year and metric:')\n",
    "        self.dropdown_box = Box(children=[self.year_selector, self.metric_selector])\n",
    "        self.output = widgets.Output()\n",
    "    \n",
    "    def display_widgets(self):\n",
    "        display(self.year_widget_label)\n",
    "        display(self.dropdown_box)     \n",
    "        \n",
    "    def get_metric_summary_view(self, dropdown_values_dict):\n",
    "        metric_summary_controller = MetricSummaryController(self.df, dropdown_values_dict, self.segments, self.key_metrics)\n",
    "        metric_summary_dict = metric_summary_controller.execute()\n",
    "        metric_summary_view = MetricSummaryView(metric_summary_dict)\n",
    "        metric_summary_view.execute()\n",
    "        \n",
    "    def get_dropdown_values_dict(self, metric, year):\n",
    "        one_year_df = self.df[self.df['Year']==year].copy()\n",
    "        rolling_avg_metric = get_rolling_avg_metric(metric)\n",
    "        return {'metric': metric, 'rolling_avg_metric': rolling_avg_metric, 'year': year, \n",
    "                'one_year_df':one_year_df}\n",
    "    \n",
    "    def render_plots_and_get_values_dict(self, metric, year):\n",
    "        dropdown_values_dict = self.get_dropdown_values_dict(metric, year)\n",
    "        self.get_metric_summary_view(dropdown_values_dict)\n",
    "\n",
    "    def change_year_and_metric(self, change):\n",
    "        clear_output()\n",
    "        selector_vals = {'metric_selector_value':self.metric_selector.value, 'year_selector_value': int(self.year_selector.value)}\n",
    "        self.display_widgets() \n",
    "        self.plot = self.render_plots_and_get_values_dict(selector_vals['metric_selector_value'],\n",
    "                                                          selector_vals['year_selector_value'])\n",
    "          "
   ]
  },
  {
   "cell_type": "markdown",
   "metadata": {},
   "source": [
    "## Section B: Web Traffic Metric Summary"
   ]
  },
  {
   "cell_type": "code",
   "execution_count": 15,
   "metadata": {
    "scrolled": false
   },
   "outputs": [
    {
     "data": {
      "application/vnd.jupyter.widget-view+json": {
       "model_id": "b79a2de99b8d458ea73e6f81da0c6e99",
       "version_major": 2,
       "version_minor": 0
      },
      "text/plain": [
       "Label(value='Please select year and metric:')"
      ]
     },
     "metadata": {},
     "output_type": "display_data"
    },
    {
     "data": {
      "application/vnd.jupyter.widget-view+json": {
       "model_id": "aac903d96f0a41f388c397b82bb03676",
       "version_major": 2,
       "version_minor": 0
      },
      "text/plain": [
       "Box(children=(Dropdown(options=('2020', '2019', '2018', '2017', '2016', '2015'), value='2020'), Dropdown(index…"
      ]
     },
     "metadata": {},
     "output_type": "display_data"
    },
    {
     "data": {
      "application/vnd.plotly.v1+json": {
       "config": {
        "plotlyServerURL": "https://plot.ly"
       },
       "data": [
        {
         "hovertext": "All Users",
         "marker": {
          "color": "dodgerblue"
         },
         "mode": "lines+markers",
         "name": "All Users",
         "type": "scatter",
         "x": [
          "2020-01-01T00:00:00",
          "2020-02-01T00:00:00",
          "2020-05-01T00:00:00",
          "2020-06-01T00:00:00",
          "2020-07-01T00:00:00"
         ],
         "xaxis": "x",
         "y": [
          71674,
          65262.666666666664,
          63688.333333333336,
          65389.666666666664,
          67319.33333333333
         ],
         "yaxis": "y"
        },
        {
         "hovertext": "New Users",
         "marker": {
          "color": "crimson"
         },
         "mode": "lines+markers",
         "name": "New Users",
         "type": "scatter",
         "x": [
          "2020-01-01T00:00:00",
          "2020-02-01T00:00:00",
          "2020-05-01T00:00:00",
          "2020-06-01T00:00:00",
          "2020-07-01T00:00:00"
         ],
         "xaxis": "x",
         "y": [
          51393.666666666664,
          47131.333333333336,
          46302.666666666664,
          46877.333333333336,
          47418.333333333336
         ],
         "yaxis": "y"
        },
        {
         "hovertext": "Returning Users",
         "marker": {
          "color": "darkcyan"
         },
         "mode": "lines+markers",
         "name": "Returning Users",
         "type": "scatter",
         "x": [
          "2020-01-01T00:00:00",
          "2020-02-01T00:00:00",
          "2020-05-01T00:00:00",
          "2020-06-01T00:00:00",
          "2020-07-01T00:00:00"
         ],
         "xaxis": "x",
         "y": [
          20279.666666666668,
          18131,
          17385.666666666668,
          18512.333333333332,
          19900.666666666668
         ],
         "yaxis": "y"
        },
        {
         "hovertext": "All Users",
         "marker": {
          "color": "dodgerblue"
         },
         "name": "All Users",
         "type": "bar",
         "x": [
          2015,
          2016,
          2017,
          2018,
          2019,
          2020
         ],
         "xaxis": "x2",
         "y": [
          60525.166666666664,
          87473.75,
          82138.08333333333,
          81359,
          69085,
          65208.4
         ],
         "yaxis": "y2"
        },
        {
         "hovertext": "New Users",
         "marker": {
          "color": "crimson"
         },
         "name": "New Users",
         "type": "bar",
         "x": [
          2015,
          2016,
          2017,
          2018,
          2019,
          2020
         ],
         "xaxis": "x2",
         "y": [
          47381.333333333336,
          69949.58333333333,
          60562.833333333336,
          56609,
          48199.833333333336,
          46579.2
         ],
         "yaxis": "y2"
        },
        {
         "hovertext": "Returning Users",
         "marker": {
          "color": "darkcyan"
         },
         "name": "Returning Users",
         "type": "bar",
         "x": [
          2015,
          2016,
          2017,
          2018,
          2019,
          2020
         ],
         "xaxis": "x2",
         "y": [
          12483.333333333334,
          17524.416666666668,
          21575.416666666668,
          24750.083333333332,
          20885.083333333332,
          18629
         ],
         "yaxis": "y2"
        },
        {
         "hovertext": "Actual: 202007",
         "marker": {
          "color": "lightsalmon"
         },
         "name": "Actual: 202007",
         "type": "bar",
         "x": [
          "All Users",
          "New Users",
          "Returning Users"
         ],
         "xaxis": "x3",
         "y": [
          66935,
          46355,
          20579
         ],
         "yaxis": "y3"
        },
        {
         "hovertext": "Rolling 3 Month Avg : 202007",
         "marker": {
          "color": "coral"
         },
         "name": "Rolling 3 Month Avg : 202007",
         "type": "bar",
         "x": [
          "All Users",
          "New Users",
          "Returning Users"
         ],
         "xaxis": "x3",
         "y": [
          67319,
          47418,
          19900
         ],
         "yaxis": "y3"
        },
        {
         "hovertext": "Previous: 202006",
         "marker": {
          "color": "chocolate"
         },
         "name": "Previous: 202006",
         "type": "bar",
         "x": [
          "All Users",
          "New Users",
          "Returning Users"
         ],
         "xaxis": "x3",
         "y": [
          68042,
          47633,
          20409
         ],
         "yaxis": "y3"
        },
        {
         "hovertext": "Historical: 201907",
         "marker": {
          "color": "indianred"
         },
         "name": "Historical: 201907",
         "type": "bar",
         "x": [
          "All Users",
          "New Users",
          "Returning Users"
         ],
         "xaxis": "x3",
         "y": [
          67905,
          47111,
          20794
         ],
         "yaxis": "y3"
        },
        {
         "hovertext": "New Users",
         "marker": {
          "color": "crimson"
         },
         "name": "New Users",
         "type": "bar",
         "x": [
          2015,
          2016,
          2017,
          2018,
          2019,
          2020
         ],
         "xaxis": "x4",
         "y": [
          78.28368915409844,
          79.96637086364004,
          73.73295172661484,
          69.57927211494733,
          69.76888374224988,
          71.43128799357137
         ],
         "yaxis": "y4"
        }
       ],
       "layout": {
        "annotations": [
         {
          "font": {
           "size": 16
          },
          "showarrow": false,
          "text": "Rolling 3 Month Avg.: 2020",
          "x": 0.225,
          "xanchor": "center",
          "xref": "paper",
          "y": 1,
          "yanchor": "bottom",
          "yref": "paper"
         },
         {
          "font": {
           "size": 16
          },
          "showarrow": false,
          "text": "Annual Avg.",
          "x": 0.775,
          "xanchor": "center",
          "xref": "paper",
          "y": 1,
          "yanchor": "bottom",
          "yref": "paper"
         },
         {
          "font": {
           "size": 16
          },
          "showarrow": false,
          "text": "Performance Summary",
          "x": 0.225,
          "xanchor": "center",
          "xref": "paper",
          "y": 0.425,
          "yanchor": "bottom",
          "yref": "paper"
         },
         {
          "font": {
           "size": 16
          },
          "showarrow": false,
          "text": "Annual Avg. New Users (%)",
          "x": 0.775,
          "xanchor": "center",
          "xref": "paper",
          "y": 0.425,
          "yanchor": "bottom",
          "yref": "paper"
         }
        ],
        "barmode": "group",
        "height": 800,
        "template": {
         "data": {
          "bar": [
           {
            "error_x": {
             "color": "#2a3f5f"
            },
            "error_y": {
             "color": "#2a3f5f"
            },
            "marker": {
             "line": {
              "color": "#E5ECF6",
              "width": 0.5
             }
            },
            "type": "bar"
           }
          ],
          "barpolar": [
           {
            "marker": {
             "line": {
              "color": "#E5ECF6",
              "width": 0.5
             }
            },
            "type": "barpolar"
           }
          ],
          "carpet": [
           {
            "aaxis": {
             "endlinecolor": "#2a3f5f",
             "gridcolor": "white",
             "linecolor": "white",
             "minorgridcolor": "white",
             "startlinecolor": "#2a3f5f"
            },
            "baxis": {
             "endlinecolor": "#2a3f5f",
             "gridcolor": "white",
             "linecolor": "white",
             "minorgridcolor": "white",
             "startlinecolor": "#2a3f5f"
            },
            "type": "carpet"
           }
          ],
          "choropleth": [
           {
            "colorbar": {
             "outlinewidth": 0,
             "ticks": ""
            },
            "type": "choropleth"
           }
          ],
          "contour": [
           {
            "colorbar": {
             "outlinewidth": 0,
             "ticks": ""
            },
            "colorscale": [
             [
              0,
              "#0d0887"
             ],
             [
              0.1111111111111111,
              "#46039f"
             ],
             [
              0.2222222222222222,
              "#7201a8"
             ],
             [
              0.3333333333333333,
              "#9c179e"
             ],
             [
              0.4444444444444444,
              "#bd3786"
             ],
             [
              0.5555555555555556,
              "#d8576b"
             ],
             [
              0.6666666666666666,
              "#ed7953"
             ],
             [
              0.7777777777777778,
              "#fb9f3a"
             ],
             [
              0.8888888888888888,
              "#fdca26"
             ],
             [
              1,
              "#f0f921"
             ]
            ],
            "type": "contour"
           }
          ],
          "contourcarpet": [
           {
            "colorbar": {
             "outlinewidth": 0,
             "ticks": ""
            },
            "type": "contourcarpet"
           }
          ],
          "heatmap": [
           {
            "colorbar": {
             "outlinewidth": 0,
             "ticks": ""
            },
            "colorscale": [
             [
              0,
              "#0d0887"
             ],
             [
              0.1111111111111111,
              "#46039f"
             ],
             [
              0.2222222222222222,
              "#7201a8"
             ],
             [
              0.3333333333333333,
              "#9c179e"
             ],
             [
              0.4444444444444444,
              "#bd3786"
             ],
             [
              0.5555555555555556,
              "#d8576b"
             ],
             [
              0.6666666666666666,
              "#ed7953"
             ],
             [
              0.7777777777777778,
              "#fb9f3a"
             ],
             [
              0.8888888888888888,
              "#fdca26"
             ],
             [
              1,
              "#f0f921"
             ]
            ],
            "type": "heatmap"
           }
          ],
          "heatmapgl": [
           {
            "colorbar": {
             "outlinewidth": 0,
             "ticks": ""
            },
            "colorscale": [
             [
              0,
              "#0d0887"
             ],
             [
              0.1111111111111111,
              "#46039f"
             ],
             [
              0.2222222222222222,
              "#7201a8"
             ],
             [
              0.3333333333333333,
              "#9c179e"
             ],
             [
              0.4444444444444444,
              "#bd3786"
             ],
             [
              0.5555555555555556,
              "#d8576b"
             ],
             [
              0.6666666666666666,
              "#ed7953"
             ],
             [
              0.7777777777777778,
              "#fb9f3a"
             ],
             [
              0.8888888888888888,
              "#fdca26"
             ],
             [
              1,
              "#f0f921"
             ]
            ],
            "type": "heatmapgl"
           }
          ],
          "histogram": [
           {
            "marker": {
             "colorbar": {
              "outlinewidth": 0,
              "ticks": ""
             }
            },
            "type": "histogram"
           }
          ],
          "histogram2d": [
           {
            "colorbar": {
             "outlinewidth": 0,
             "ticks": ""
            },
            "colorscale": [
             [
              0,
              "#0d0887"
             ],
             [
              0.1111111111111111,
              "#46039f"
             ],
             [
              0.2222222222222222,
              "#7201a8"
             ],
             [
              0.3333333333333333,
              "#9c179e"
             ],
             [
              0.4444444444444444,
              "#bd3786"
             ],
             [
              0.5555555555555556,
              "#d8576b"
             ],
             [
              0.6666666666666666,
              "#ed7953"
             ],
             [
              0.7777777777777778,
              "#fb9f3a"
             ],
             [
              0.8888888888888888,
              "#fdca26"
             ],
             [
              1,
              "#f0f921"
             ]
            ],
            "type": "histogram2d"
           }
          ],
          "histogram2dcontour": [
           {
            "colorbar": {
             "outlinewidth": 0,
             "ticks": ""
            },
            "colorscale": [
             [
              0,
              "#0d0887"
             ],
             [
              0.1111111111111111,
              "#46039f"
             ],
             [
              0.2222222222222222,
              "#7201a8"
             ],
             [
              0.3333333333333333,
              "#9c179e"
             ],
             [
              0.4444444444444444,
              "#bd3786"
             ],
             [
              0.5555555555555556,
              "#d8576b"
             ],
             [
              0.6666666666666666,
              "#ed7953"
             ],
             [
              0.7777777777777778,
              "#fb9f3a"
             ],
             [
              0.8888888888888888,
              "#fdca26"
             ],
             [
              1,
              "#f0f921"
             ]
            ],
            "type": "histogram2dcontour"
           }
          ],
          "mesh3d": [
           {
            "colorbar": {
             "outlinewidth": 0,
             "ticks": ""
            },
            "type": "mesh3d"
           }
          ],
          "parcoords": [
           {
            "line": {
             "colorbar": {
              "outlinewidth": 0,
              "ticks": ""
             }
            },
            "type": "parcoords"
           }
          ],
          "pie": [
           {
            "automargin": true,
            "type": "pie"
           }
          ],
          "scatter": [
           {
            "marker": {
             "colorbar": {
              "outlinewidth": 0,
              "ticks": ""
             }
            },
            "type": "scatter"
           }
          ],
          "scatter3d": [
           {
            "line": {
             "colorbar": {
              "outlinewidth": 0,
              "ticks": ""
             }
            },
            "marker": {
             "colorbar": {
              "outlinewidth": 0,
              "ticks": ""
             }
            },
            "type": "scatter3d"
           }
          ],
          "scattercarpet": [
           {
            "marker": {
             "colorbar": {
              "outlinewidth": 0,
              "ticks": ""
             }
            },
            "type": "scattercarpet"
           }
          ],
          "scattergeo": [
           {
            "marker": {
             "colorbar": {
              "outlinewidth": 0,
              "ticks": ""
             }
            },
            "type": "scattergeo"
           }
          ],
          "scattergl": [
           {
            "marker": {
             "colorbar": {
              "outlinewidth": 0,
              "ticks": ""
             }
            },
            "type": "scattergl"
           }
          ],
          "scattermapbox": [
           {
            "marker": {
             "colorbar": {
              "outlinewidth": 0,
              "ticks": ""
             }
            },
            "type": "scattermapbox"
           }
          ],
          "scatterpolar": [
           {
            "marker": {
             "colorbar": {
              "outlinewidth": 0,
              "ticks": ""
             }
            },
            "type": "scatterpolar"
           }
          ],
          "scatterpolargl": [
           {
            "marker": {
             "colorbar": {
              "outlinewidth": 0,
              "ticks": ""
             }
            },
            "type": "scatterpolargl"
           }
          ],
          "scatterternary": [
           {
            "marker": {
             "colorbar": {
              "outlinewidth": 0,
              "ticks": ""
             }
            },
            "type": "scatterternary"
           }
          ],
          "surface": [
           {
            "colorbar": {
             "outlinewidth": 0,
             "ticks": ""
            },
            "colorscale": [
             [
              0,
              "#0d0887"
             ],
             [
              0.1111111111111111,
              "#46039f"
             ],
             [
              0.2222222222222222,
              "#7201a8"
             ],
             [
              0.3333333333333333,
              "#9c179e"
             ],
             [
              0.4444444444444444,
              "#bd3786"
             ],
             [
              0.5555555555555556,
              "#d8576b"
             ],
             [
              0.6666666666666666,
              "#ed7953"
             ],
             [
              0.7777777777777778,
              "#fb9f3a"
             ],
             [
              0.8888888888888888,
              "#fdca26"
             ],
             [
              1,
              "#f0f921"
             ]
            ],
            "type": "surface"
           }
          ],
          "table": [
           {
            "cells": {
             "fill": {
              "color": "#EBF0F8"
             },
             "line": {
              "color": "white"
             }
            },
            "header": {
             "fill": {
              "color": "#C8D4E3"
             },
             "line": {
              "color": "white"
             }
            },
            "type": "table"
           }
          ]
         },
         "layout": {
          "annotationdefaults": {
           "arrowcolor": "#2a3f5f",
           "arrowhead": 0,
           "arrowwidth": 1
          },
          "coloraxis": {
           "colorbar": {
            "outlinewidth": 0,
            "ticks": ""
           }
          },
          "colorscale": {
           "diverging": [
            [
             0,
             "#8e0152"
            ],
            [
             0.1,
             "#c51b7d"
            ],
            [
             0.2,
             "#de77ae"
            ],
            [
             0.3,
             "#f1b6da"
            ],
            [
             0.4,
             "#fde0ef"
            ],
            [
             0.5,
             "#f7f7f7"
            ],
            [
             0.6,
             "#e6f5d0"
            ],
            [
             0.7,
             "#b8e186"
            ],
            [
             0.8,
             "#7fbc41"
            ],
            [
             0.9,
             "#4d9221"
            ],
            [
             1,
             "#276419"
            ]
           ],
           "sequential": [
            [
             0,
             "#0d0887"
            ],
            [
             0.1111111111111111,
             "#46039f"
            ],
            [
             0.2222222222222222,
             "#7201a8"
            ],
            [
             0.3333333333333333,
             "#9c179e"
            ],
            [
             0.4444444444444444,
             "#bd3786"
            ],
            [
             0.5555555555555556,
             "#d8576b"
            ],
            [
             0.6666666666666666,
             "#ed7953"
            ],
            [
             0.7777777777777778,
             "#fb9f3a"
            ],
            [
             0.8888888888888888,
             "#fdca26"
            ],
            [
             1,
             "#f0f921"
            ]
           ],
           "sequentialminus": [
            [
             0,
             "#0d0887"
            ],
            [
             0.1111111111111111,
             "#46039f"
            ],
            [
             0.2222222222222222,
             "#7201a8"
            ],
            [
             0.3333333333333333,
             "#9c179e"
            ],
            [
             0.4444444444444444,
             "#bd3786"
            ],
            [
             0.5555555555555556,
             "#d8576b"
            ],
            [
             0.6666666666666666,
             "#ed7953"
            ],
            [
             0.7777777777777778,
             "#fb9f3a"
            ],
            [
             0.8888888888888888,
             "#fdca26"
            ],
            [
             1,
             "#f0f921"
            ]
           ]
          },
          "colorway": [
           "#636efa",
           "#EF553B",
           "#00cc96",
           "#ab63fa",
           "#FFA15A",
           "#19d3f3",
           "#FF6692",
           "#B6E880",
           "#FF97FF",
           "#FECB52"
          ],
          "font": {
           "color": "#2a3f5f"
          },
          "geo": {
           "bgcolor": "white",
           "lakecolor": "white",
           "landcolor": "#E5ECF6",
           "showlakes": true,
           "showland": true,
           "subunitcolor": "white"
          },
          "hoverlabel": {
           "align": "left"
          },
          "hovermode": "closest",
          "mapbox": {
           "style": "light"
          },
          "paper_bgcolor": "white",
          "plot_bgcolor": "#E5ECF6",
          "polar": {
           "angularaxis": {
            "gridcolor": "white",
            "linecolor": "white",
            "ticks": ""
           },
           "bgcolor": "#E5ECF6",
           "radialaxis": {
            "gridcolor": "white",
            "linecolor": "white",
            "ticks": ""
           }
          },
          "scene": {
           "xaxis": {
            "backgroundcolor": "#E5ECF6",
            "gridcolor": "white",
            "gridwidth": 2,
            "linecolor": "white",
            "showbackground": true,
            "ticks": "",
            "zerolinecolor": "white"
           },
           "yaxis": {
            "backgroundcolor": "#E5ECF6",
            "gridcolor": "white",
            "gridwidth": 2,
            "linecolor": "white",
            "showbackground": true,
            "ticks": "",
            "zerolinecolor": "white"
           },
           "zaxis": {
            "backgroundcolor": "#E5ECF6",
            "gridcolor": "white",
            "gridwidth": 2,
            "linecolor": "white",
            "showbackground": true,
            "ticks": "",
            "zerolinecolor": "white"
           }
          },
          "shapedefaults": {
           "line": {
            "color": "#2a3f5f"
           }
          },
          "ternary": {
           "aaxis": {
            "gridcolor": "white",
            "linecolor": "white",
            "ticks": ""
           },
           "baxis": {
            "gridcolor": "white",
            "linecolor": "white",
            "ticks": ""
           },
           "bgcolor": "#E5ECF6",
           "caxis": {
            "gridcolor": "white",
            "linecolor": "white",
            "ticks": ""
           }
          },
          "title": {
           "x": 0.05
          },
          "xaxis": {
           "automargin": true,
           "gridcolor": "white",
           "linecolor": "white",
           "ticks": "",
           "title": {
            "standoff": 15
           },
           "zerolinecolor": "white",
           "zerolinewidth": 2
          },
          "yaxis": {
           "automargin": true,
           "gridcolor": "white",
           "linecolor": "white",
           "ticks": "",
           "title": {
            "standoff": 15
           },
           "zerolinecolor": "white",
           "zerolinewidth": 2
          }
         }
        },
        "title": {
         "text": "Metric: Sessions"
        },
        "width": 1000,
        "xaxis": {
         "anchor": "y",
         "domain": [
          0,
          0.45
         ],
         "showticklabels": true,
         "tickangle": -45
        },
        "xaxis2": {
         "anchor": "y2",
         "domain": [
          0.55,
          1
         ]
        },
        "xaxis3": {
         "anchor": "y3",
         "domain": [
          0,
          0.45
         ]
        },
        "xaxis4": {
         "anchor": "y4",
         "domain": [
          0.55,
          1
         ]
        },
        "yaxis": {
         "anchor": "x",
         "domain": [
          0.575,
          1
         ],
         "title": {
          "text": "Sessions"
         }
        },
        "yaxis2": {
         "anchor": "x2",
         "domain": [
          0.575,
          1
         ],
         "title": {
          "text": "Sessions"
         }
        },
        "yaxis3": {
         "anchor": "x3",
         "domain": [
          0,
          0.425
         ],
         "title": {
          "text": "Sessions"
         }
        },
        "yaxis4": {
         "anchor": "x4",
         "domain": [
          0,
          0.425
         ],
         "title": {
          "text": "Sessions (%)"
         }
        }
       }
      },
      "text/html": [
       "<div>\n",
       "        \n",
       "        \n",
       "            <div id=\"2d4ce533-da15-476e-9df7-a6f9092a6d34\" class=\"plotly-graph-div\" style=\"height:800px; width:1000px;\"></div>\n",
       "            <script type=\"text/javascript\">\n",
       "                require([\"plotly\"], function(Plotly) {\n",
       "                    window.PLOTLYENV=window.PLOTLYENV || {};\n",
       "                    \n",
       "                if (document.getElementById(\"2d4ce533-da15-476e-9df7-a6f9092a6d34\")) {\n",
       "                    Plotly.newPlot(\n",
       "                        '2d4ce533-da15-476e-9df7-a6f9092a6d34',\n",
       "                        [{\"hovertext\": \"All Users\", \"marker\": {\"color\": \"dodgerblue\"}, \"mode\": \"lines+markers\", \"name\": \"All Users\", \"type\": \"scatter\", \"x\": [\"2020-01-01T00:00:00\", \"2020-02-01T00:00:00\", \"2020-05-01T00:00:00\", \"2020-06-01T00:00:00\", \"2020-07-01T00:00:00\"], \"xaxis\": \"x\", \"y\": [71674.0, 65262.666666666664, 63688.333333333336, 65389.666666666664, 67319.33333333333], \"yaxis\": \"y\"}, {\"hovertext\": \"New Users\", \"marker\": {\"color\": \"crimson\"}, \"mode\": \"lines+markers\", \"name\": \"New Users\", \"type\": \"scatter\", \"x\": [\"2020-01-01T00:00:00\", \"2020-02-01T00:00:00\", \"2020-05-01T00:00:00\", \"2020-06-01T00:00:00\", \"2020-07-01T00:00:00\"], \"xaxis\": \"x\", \"y\": [51393.666666666664, 47131.333333333336, 46302.666666666664, 46877.333333333336, 47418.333333333336], \"yaxis\": \"y\"}, {\"hovertext\": \"Returning Users\", \"marker\": {\"color\": \"darkcyan\"}, \"mode\": \"lines+markers\", \"name\": \"Returning Users\", \"type\": \"scatter\", \"x\": [\"2020-01-01T00:00:00\", \"2020-02-01T00:00:00\", \"2020-05-01T00:00:00\", \"2020-06-01T00:00:00\", \"2020-07-01T00:00:00\"], \"xaxis\": \"x\", \"y\": [20279.666666666668, 18131.0, 17385.666666666668, 18512.333333333332, 19900.666666666668], \"yaxis\": \"y\"}, {\"hovertext\": \"All Users\", \"marker\": {\"color\": \"dodgerblue\"}, \"name\": \"All Users\", \"type\": \"bar\", \"x\": [2015, 2016, 2017, 2018, 2019, 2020], \"xaxis\": \"x2\", \"y\": [60525.166666666664, 87473.75, 82138.08333333333, 81359.0, 69085.0, 65208.4], \"yaxis\": \"y2\"}, {\"hovertext\": \"New Users\", \"marker\": {\"color\": \"crimson\"}, \"name\": \"New Users\", \"type\": \"bar\", \"x\": [2015, 2016, 2017, 2018, 2019, 2020], \"xaxis\": \"x2\", \"y\": [47381.333333333336, 69949.58333333333, 60562.833333333336, 56609.0, 48199.833333333336, 46579.2], \"yaxis\": \"y2\"}, {\"hovertext\": \"Returning Users\", \"marker\": {\"color\": \"darkcyan\"}, \"name\": \"Returning Users\", \"type\": \"bar\", \"x\": [2015, 2016, 2017, 2018, 2019, 2020], \"xaxis\": \"x2\", \"y\": [12483.333333333334, 17524.416666666668, 21575.416666666668, 24750.083333333332, 20885.083333333332, 18629.0], \"yaxis\": \"y2\"}, {\"hovertext\": \"Actual: 202007\", \"marker\": {\"color\": \"lightsalmon\"}, \"name\": \"Actual: 202007\", \"type\": \"bar\", \"x\": [\"All Users\", \"New Users\", \"Returning Users\"], \"xaxis\": \"x3\", \"y\": [66935, 46355, 20579], \"yaxis\": \"y3\"}, {\"hovertext\": \"Rolling 3 Month Avg : 202007\", \"marker\": {\"color\": \"coral\"}, \"name\": \"Rolling 3 Month Avg : 202007\", \"type\": \"bar\", \"x\": [\"All Users\", \"New Users\", \"Returning Users\"], \"xaxis\": \"x3\", \"y\": [67319, 47418, 19900], \"yaxis\": \"y3\"}, {\"hovertext\": \"Previous: 202006\", \"marker\": {\"color\": \"chocolate\"}, \"name\": \"Previous: 202006\", \"type\": \"bar\", \"x\": [\"All Users\", \"New Users\", \"Returning Users\"], \"xaxis\": \"x3\", \"y\": [68042, 47633, 20409], \"yaxis\": \"y3\"}, {\"hovertext\": \"Historical: 201907\", \"marker\": {\"color\": \"indianred\"}, \"name\": \"Historical: 201907\", \"type\": \"bar\", \"x\": [\"All Users\", \"New Users\", \"Returning Users\"], \"xaxis\": \"x3\", \"y\": [67905, 47111, 20794], \"yaxis\": \"y3\"}, {\"hovertext\": \"New Users\", \"marker\": {\"color\": \"crimson\"}, \"name\": \"New Users\", \"type\": \"bar\", \"x\": [2015, 2016, 2017, 2018, 2019, 2020], \"xaxis\": \"x4\", \"y\": [78.28368915409844, 79.96637086364004, 73.73295172661484, 69.57927211494733, 69.76888374224988, 71.43128799357137], \"yaxis\": \"y4\"}],\n",
       "                        {\"annotations\": [{\"font\": {\"size\": 16}, \"showarrow\": false, \"text\": \"Rolling 3 Month Avg.: 2020\", \"x\": 0.225, \"xanchor\": \"center\", \"xref\": \"paper\", \"y\": 1.0, \"yanchor\": \"bottom\", \"yref\": \"paper\"}, {\"font\": {\"size\": 16}, \"showarrow\": false, \"text\": \"Annual Avg.\", \"x\": 0.775, \"xanchor\": \"center\", \"xref\": \"paper\", \"y\": 1.0, \"yanchor\": \"bottom\", \"yref\": \"paper\"}, {\"font\": {\"size\": 16}, \"showarrow\": false, \"text\": \"Performance Summary\", \"x\": 0.225, \"xanchor\": \"center\", \"xref\": \"paper\", \"y\": 0.425, \"yanchor\": \"bottom\", \"yref\": \"paper\"}, {\"font\": {\"size\": 16}, \"showarrow\": false, \"text\": \"Annual Avg. New Users (%)\", \"x\": 0.775, \"xanchor\": \"center\", \"xref\": \"paper\", \"y\": 0.425, \"yanchor\": \"bottom\", \"yref\": \"paper\"}], \"barmode\": \"group\", \"height\": 800, \"template\": {\"data\": {\"bar\": [{\"error_x\": {\"color\": \"#2a3f5f\"}, \"error_y\": {\"color\": \"#2a3f5f\"}, \"marker\": {\"line\": {\"color\": \"#E5ECF6\", \"width\": 0.5}}, \"type\": \"bar\"}], \"barpolar\": [{\"marker\": {\"line\": {\"color\": \"#E5ECF6\", \"width\": 0.5}}, \"type\": \"barpolar\"}], \"carpet\": [{\"aaxis\": {\"endlinecolor\": \"#2a3f5f\", \"gridcolor\": \"white\", \"linecolor\": \"white\", \"minorgridcolor\": \"white\", \"startlinecolor\": \"#2a3f5f\"}, \"baxis\": {\"endlinecolor\": \"#2a3f5f\", \"gridcolor\": \"white\", \"linecolor\": \"white\", \"minorgridcolor\": \"white\", \"startlinecolor\": \"#2a3f5f\"}, \"type\": \"carpet\"}], \"choropleth\": [{\"colorbar\": {\"outlinewidth\": 0, \"ticks\": \"\"}, \"type\": \"choropleth\"}], \"contour\": [{\"colorbar\": {\"outlinewidth\": 0, \"ticks\": \"\"}, \"colorscale\": [[0.0, \"#0d0887\"], [0.1111111111111111, \"#46039f\"], [0.2222222222222222, \"#7201a8\"], [0.3333333333333333, \"#9c179e\"], [0.4444444444444444, \"#bd3786\"], [0.5555555555555556, \"#d8576b\"], [0.6666666666666666, \"#ed7953\"], [0.7777777777777778, \"#fb9f3a\"], [0.8888888888888888, \"#fdca26\"], [1.0, \"#f0f921\"]], \"type\": \"contour\"}], \"contourcarpet\": [{\"colorbar\": {\"outlinewidth\": 0, \"ticks\": \"\"}, \"type\": \"contourcarpet\"}], \"heatmap\": [{\"colorbar\": {\"outlinewidth\": 0, \"ticks\": \"\"}, \"colorscale\": [[0.0, \"#0d0887\"], [0.1111111111111111, \"#46039f\"], [0.2222222222222222, \"#7201a8\"], [0.3333333333333333, \"#9c179e\"], [0.4444444444444444, \"#bd3786\"], [0.5555555555555556, \"#d8576b\"], [0.6666666666666666, \"#ed7953\"], [0.7777777777777778, \"#fb9f3a\"], [0.8888888888888888, \"#fdca26\"], [1.0, \"#f0f921\"]], \"type\": \"heatmap\"}], \"heatmapgl\": [{\"colorbar\": {\"outlinewidth\": 0, \"ticks\": \"\"}, \"colorscale\": [[0.0, \"#0d0887\"], [0.1111111111111111, \"#46039f\"], [0.2222222222222222, \"#7201a8\"], [0.3333333333333333, \"#9c179e\"], [0.4444444444444444, \"#bd3786\"], [0.5555555555555556, \"#d8576b\"], [0.6666666666666666, \"#ed7953\"], [0.7777777777777778, \"#fb9f3a\"], [0.8888888888888888, \"#fdca26\"], [1.0, \"#f0f921\"]], \"type\": \"heatmapgl\"}], \"histogram\": [{\"marker\": {\"colorbar\": {\"outlinewidth\": 0, \"ticks\": \"\"}}, \"type\": \"histogram\"}], \"histogram2d\": [{\"colorbar\": {\"outlinewidth\": 0, \"ticks\": \"\"}, \"colorscale\": [[0.0, \"#0d0887\"], [0.1111111111111111, \"#46039f\"], [0.2222222222222222, \"#7201a8\"], [0.3333333333333333, \"#9c179e\"], [0.4444444444444444, \"#bd3786\"], [0.5555555555555556, \"#d8576b\"], [0.6666666666666666, \"#ed7953\"], [0.7777777777777778, \"#fb9f3a\"], [0.8888888888888888, \"#fdca26\"], [1.0, \"#f0f921\"]], \"type\": \"histogram2d\"}], \"histogram2dcontour\": [{\"colorbar\": {\"outlinewidth\": 0, \"ticks\": \"\"}, \"colorscale\": [[0.0, \"#0d0887\"], [0.1111111111111111, \"#46039f\"], [0.2222222222222222, \"#7201a8\"], [0.3333333333333333, \"#9c179e\"], [0.4444444444444444, \"#bd3786\"], [0.5555555555555556, \"#d8576b\"], [0.6666666666666666, \"#ed7953\"], [0.7777777777777778, \"#fb9f3a\"], [0.8888888888888888, \"#fdca26\"], [1.0, \"#f0f921\"]], \"type\": \"histogram2dcontour\"}], \"mesh3d\": [{\"colorbar\": {\"outlinewidth\": 0, \"ticks\": \"\"}, \"type\": \"mesh3d\"}], \"parcoords\": [{\"line\": {\"colorbar\": {\"outlinewidth\": 0, \"ticks\": \"\"}}, \"type\": \"parcoords\"}], \"pie\": [{\"automargin\": true, \"type\": \"pie\"}], \"scatter\": [{\"marker\": {\"colorbar\": {\"outlinewidth\": 0, \"ticks\": \"\"}}, \"type\": \"scatter\"}], \"scatter3d\": [{\"line\": {\"colorbar\": {\"outlinewidth\": 0, \"ticks\": \"\"}}, \"marker\": {\"colorbar\": {\"outlinewidth\": 0, \"ticks\": \"\"}}, \"type\": \"scatter3d\"}], \"scattercarpet\": [{\"marker\": {\"colorbar\": {\"outlinewidth\": 0, \"ticks\": \"\"}}, \"type\": \"scattercarpet\"}], \"scattergeo\": [{\"marker\": {\"colorbar\": {\"outlinewidth\": 0, \"ticks\": \"\"}}, \"type\": \"scattergeo\"}], \"scattergl\": [{\"marker\": {\"colorbar\": {\"outlinewidth\": 0, \"ticks\": \"\"}}, \"type\": \"scattergl\"}], \"scattermapbox\": [{\"marker\": {\"colorbar\": {\"outlinewidth\": 0, \"ticks\": \"\"}}, \"type\": \"scattermapbox\"}], \"scatterpolar\": [{\"marker\": {\"colorbar\": {\"outlinewidth\": 0, \"ticks\": \"\"}}, \"type\": \"scatterpolar\"}], \"scatterpolargl\": [{\"marker\": {\"colorbar\": {\"outlinewidth\": 0, \"ticks\": \"\"}}, \"type\": \"scatterpolargl\"}], \"scatterternary\": [{\"marker\": {\"colorbar\": {\"outlinewidth\": 0, \"ticks\": \"\"}}, \"type\": \"scatterternary\"}], \"surface\": [{\"colorbar\": {\"outlinewidth\": 0, \"ticks\": \"\"}, \"colorscale\": [[0.0, \"#0d0887\"], [0.1111111111111111, \"#46039f\"], [0.2222222222222222, \"#7201a8\"], [0.3333333333333333, \"#9c179e\"], [0.4444444444444444, \"#bd3786\"], [0.5555555555555556, \"#d8576b\"], [0.6666666666666666, \"#ed7953\"], [0.7777777777777778, \"#fb9f3a\"], [0.8888888888888888, \"#fdca26\"], [1.0, \"#f0f921\"]], \"type\": \"surface\"}], \"table\": [{\"cells\": {\"fill\": {\"color\": \"#EBF0F8\"}, \"line\": {\"color\": \"white\"}}, \"header\": {\"fill\": {\"color\": \"#C8D4E3\"}, \"line\": {\"color\": \"white\"}}, \"type\": \"table\"}]}, \"layout\": {\"annotationdefaults\": {\"arrowcolor\": \"#2a3f5f\", \"arrowhead\": 0, \"arrowwidth\": 1}, \"coloraxis\": {\"colorbar\": {\"outlinewidth\": 0, \"ticks\": \"\"}}, \"colorscale\": {\"diverging\": [[0, \"#8e0152\"], [0.1, \"#c51b7d\"], [0.2, \"#de77ae\"], [0.3, \"#f1b6da\"], [0.4, \"#fde0ef\"], [0.5, \"#f7f7f7\"], [0.6, \"#e6f5d0\"], [0.7, \"#b8e186\"], [0.8, \"#7fbc41\"], [0.9, \"#4d9221\"], [1, \"#276419\"]], \"sequential\": [[0.0, \"#0d0887\"], [0.1111111111111111, \"#46039f\"], [0.2222222222222222, \"#7201a8\"], [0.3333333333333333, \"#9c179e\"], [0.4444444444444444, \"#bd3786\"], [0.5555555555555556, \"#d8576b\"], [0.6666666666666666, \"#ed7953\"], [0.7777777777777778, \"#fb9f3a\"], [0.8888888888888888, \"#fdca26\"], [1.0, \"#f0f921\"]], \"sequentialminus\": [[0.0, \"#0d0887\"], [0.1111111111111111, \"#46039f\"], [0.2222222222222222, \"#7201a8\"], [0.3333333333333333, \"#9c179e\"], [0.4444444444444444, \"#bd3786\"], [0.5555555555555556, \"#d8576b\"], [0.6666666666666666, \"#ed7953\"], [0.7777777777777778, \"#fb9f3a\"], [0.8888888888888888, \"#fdca26\"], [1.0, \"#f0f921\"]]}, \"colorway\": [\"#636efa\", \"#EF553B\", \"#00cc96\", \"#ab63fa\", \"#FFA15A\", \"#19d3f3\", \"#FF6692\", \"#B6E880\", \"#FF97FF\", \"#FECB52\"], \"font\": {\"color\": \"#2a3f5f\"}, \"geo\": {\"bgcolor\": \"white\", \"lakecolor\": \"white\", \"landcolor\": \"#E5ECF6\", \"showlakes\": true, \"showland\": true, \"subunitcolor\": \"white\"}, \"hoverlabel\": {\"align\": \"left\"}, \"hovermode\": \"closest\", \"mapbox\": {\"style\": \"light\"}, \"paper_bgcolor\": \"white\", \"plot_bgcolor\": \"#E5ECF6\", \"polar\": {\"angularaxis\": {\"gridcolor\": \"white\", \"linecolor\": \"white\", \"ticks\": \"\"}, \"bgcolor\": \"#E5ECF6\", \"radialaxis\": {\"gridcolor\": \"white\", \"linecolor\": \"white\", \"ticks\": \"\"}}, \"scene\": {\"xaxis\": {\"backgroundcolor\": \"#E5ECF6\", \"gridcolor\": \"white\", \"gridwidth\": 2, \"linecolor\": \"white\", \"showbackground\": true, \"ticks\": \"\", \"zerolinecolor\": \"white\"}, \"yaxis\": {\"backgroundcolor\": \"#E5ECF6\", \"gridcolor\": \"white\", \"gridwidth\": 2, \"linecolor\": \"white\", \"showbackground\": true, \"ticks\": \"\", \"zerolinecolor\": \"white\"}, \"zaxis\": {\"backgroundcolor\": \"#E5ECF6\", \"gridcolor\": \"white\", \"gridwidth\": 2, \"linecolor\": \"white\", \"showbackground\": true, \"ticks\": \"\", \"zerolinecolor\": \"white\"}}, \"shapedefaults\": {\"line\": {\"color\": \"#2a3f5f\"}}, \"ternary\": {\"aaxis\": {\"gridcolor\": \"white\", \"linecolor\": \"white\", \"ticks\": \"\"}, \"baxis\": {\"gridcolor\": \"white\", \"linecolor\": \"white\", \"ticks\": \"\"}, \"bgcolor\": \"#E5ECF6\", \"caxis\": {\"gridcolor\": \"white\", \"linecolor\": \"white\", \"ticks\": \"\"}}, \"title\": {\"x\": 0.05}, \"xaxis\": {\"automargin\": true, \"gridcolor\": \"white\", \"linecolor\": \"white\", \"ticks\": \"\", \"title\": {\"standoff\": 15}, \"zerolinecolor\": \"white\", \"zerolinewidth\": 2}, \"yaxis\": {\"automargin\": true, \"gridcolor\": \"white\", \"linecolor\": \"white\", \"ticks\": \"\", \"title\": {\"standoff\": 15}, \"zerolinecolor\": \"white\", \"zerolinewidth\": 2}}}, \"title\": {\"text\": \"Metric: Sessions\"}, \"width\": 1000, \"xaxis\": {\"anchor\": \"y\", \"domain\": [0.0, 0.45], \"showticklabels\": true, \"tickangle\": -45}, \"xaxis2\": {\"anchor\": \"y2\", \"domain\": [0.55, 1.0]}, \"xaxis3\": {\"anchor\": \"y3\", \"domain\": [0.0, 0.45]}, \"xaxis4\": {\"anchor\": \"y4\", \"domain\": [0.55, 1.0]}, \"yaxis\": {\"anchor\": \"x\", \"domain\": [0.575, 1.0], \"title\": {\"text\": \"Sessions\"}}, \"yaxis2\": {\"anchor\": \"x2\", \"domain\": [0.575, 1.0], \"title\": {\"text\": \"Sessions\"}}, \"yaxis3\": {\"anchor\": \"x3\", \"domain\": [0.0, 0.425], \"title\": {\"text\": \"Sessions\"}}, \"yaxis4\": {\"anchor\": \"x4\", \"domain\": [0.0, 0.425], \"title\": {\"text\": \"Sessions (%)\"}}},\n",
       "                        {\"responsive\": true}\n",
       "                    ).then(function(){\n",
       "                            \n",
       "var gd = document.getElementById('2d4ce533-da15-476e-9df7-a6f9092a6d34');\n",
       "var x = new MutationObserver(function (mutations, observer) {{\n",
       "        var display = window.getComputedStyle(gd).display;\n",
       "        if (!display || display === 'none') {{\n",
       "            console.log([gd, 'removed!']);\n",
       "            Plotly.purge(gd);\n",
       "            observer.disconnect();\n",
       "        }}\n",
       "}});\n",
       "\n",
       "// Listen for the removal of the full notebook cells\n",
       "var notebookContainer = gd.closest('#notebook-container');\n",
       "if (notebookContainer) {{\n",
       "    x.observe(notebookContainer, {childList: true});\n",
       "}}\n",
       "\n",
       "// Listen for the clearing of the current output cell\n",
       "var outputEl = gd.closest('.output');\n",
       "if (outputEl) {{\n",
       "    x.observe(outputEl, {childList: true});\n",
       "}}\n",
       "\n",
       "                        })\n",
       "                };\n",
       "                });\n",
       "            </script>\n",
       "        </div>"
      ]
     },
     "metadata": {},
     "output_type": "display_data"
    }
   ],
   "source": [
    "dashboard_view = DashboardQuadrantView(web_traffic_df_copy, segments, key_metrics)\n",
    "dashboard_view.execute()"
   ]
  },
  {
   "cell_type": "code",
   "execution_count": 17,
   "metadata": {},
   "outputs": [
    {
     "data": {
      "text/html": [
       "<style>\n",
       "div.input {\n",
       "    display:none;\n",
       "}\n",
       ".widgetTitle {\n",
       "    font-style: bold;\n",
       "    font-size: 16px;\n",
       "}\n",
       "\n",
       ".yMetricSelector {\n",
       "    float: right\n",
       "}\n",
       "\n",
       "</style>\n"
      ],
      "text/plain": [
       "<IPython.core.display.HTML object>"
      ]
     },
     "metadata": {},
     "output_type": "display_data"
    }
   ],
   "source": [
    "%%html\n",
    "<style>\n",
    "div.input {\n",
    "    display:none;\n",
    "}\n",
    ".widgetTitle {\n",
    "    font-style: bold;\n",
    "    font-size: 16px;\n",
    "}\n",
    "\n",
    ".yMetricSelector {\n",
    "    float: right\n",
    "}\n",
    "\n",
    "</style>"
   ]
  },
  {
   "cell_type": "markdown",
   "metadata": {},
   "source": [
    "from IPython.core.display import display, HTML\n",
    "display(HTML(\"<style>.container { width:90% !important; }</style>\"))"
   ]
  },
  {
   "cell_type": "code",
   "execution_count": null,
   "metadata": {},
   "outputs": [],
   "source": []
  }
 ],
 "metadata": {
  "kernelspec": {
   "display_name": "sklearn_env",
   "language": "python",
   "name": "sklearn_env"
  },
  "language_info": {
   "codemirror_mode": {
    "name": "ipython",
    "version": 3
   },
   "file_extension": ".py",
   "mimetype": "text/x-python",
   "name": "python",
   "nbconvert_exporter": "python",
   "pygments_lexer": "ipython3",
   "version": "3.7.5"
  }
 },
 "nbformat": 4,
 "nbformat_minor": 2
}
